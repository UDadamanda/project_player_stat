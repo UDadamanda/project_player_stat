{
 "cells": [
  {
   "cell_type": "markdown",
   "id": "ccbfaffa-c68f-4747-bb85-a684c96e402d",
   "metadata": {},
   "source": [
    "# Title: Determining the Current Rank of Tennis Players\n",
    "----------------------------------------------------------------\n",
    "## Introduction:\n",
    "Global player rankings provide interesting and valuable insights into professional tennis performances. Players earn points based on their top 18 performances of the past 52 weeks at events hosted by one of the major governing bodies of the sport. Top performers earn significant prize money at major tournaments.\n",
    "\n",
    "In our project, we investigated the following question: Can the current rank of professional tennis players be predicted through factors such as best rank achieved throughout their career, total prize money earned, and seasons played at the professional level? This provided an interesting sports analytics question, and the results can potentially help in predicting future player rankings, which has economic and entertainment value.\n",
    "\n",
    "The dataset we used is “Player Stats for Top 500 Players'' from ultimatetennisstatistics.com. This dataset compiles individual player data for the 500 highest ranked professional tennis players, including a variety of different categories.\n"
   ]
  },
  {
   "cell_type": "markdown",
   "id": "0bbbc679-2f42-444b-8be4-b7ff85d5a006",
   "metadata": {},
   "source": [
    "## Methods and Results:\n",
    "\n"
   ]
  },
  {
   "cell_type": "code",
   "execution_count": 1,
   "id": "85975fd7-7a2d-42c2-8921-a80187979444",
   "metadata": {},
   "outputs": [
    {
     "name": "stderr",
     "output_type": "stream",
     "text": [
      "── \u001b[1mAttaching packages\u001b[22m ─────────────────────────────────────── tidyverse 1.3.1 ──\n",
      "\n",
      "\u001b[32m✔\u001b[39m \u001b[34mggplot2\u001b[39m 3.3.6     \u001b[32m✔\u001b[39m \u001b[34mpurrr  \u001b[39m 0.3.4\n",
      "\u001b[32m✔\u001b[39m \u001b[34mtibble \u001b[39m 3.1.8     \u001b[32m✔\u001b[39m \u001b[34mdplyr  \u001b[39m 1.0.9\n",
      "\u001b[32m✔\u001b[39m \u001b[34mtidyr  \u001b[39m 1.2.0     \u001b[32m✔\u001b[39m \u001b[34mstringr\u001b[39m 1.4.0\n",
      "\u001b[32m✔\u001b[39m \u001b[34mreadr  \u001b[39m 2.1.2     \u001b[32m✔\u001b[39m \u001b[34mforcats\u001b[39m 0.5.1\n",
      "\n",
      "Warning message:\n",
      "“package ‘ggplot2’ was built under R version 4.1.3”\n",
      "Warning message:\n",
      "“package ‘tidyr’ was built under R version 4.1.2”\n",
      "Warning message:\n",
      "“package ‘readr’ was built under R version 4.1.2”\n",
      "Warning message:\n",
      "“package ‘dplyr’ was built under R version 4.1.3”\n",
      "── \u001b[1mConflicts\u001b[22m ────────────────────────────────────────── tidyverse_conflicts() ──\n",
      "\u001b[31m✖\u001b[39m \u001b[34mdplyr\u001b[39m::\u001b[32mfilter()\u001b[39m masks \u001b[34mstats\u001b[39m::filter()\n",
      "\u001b[31m✖\u001b[39m \u001b[34mdplyr\u001b[39m::\u001b[32mlag()\u001b[39m    masks \u001b[34mstats\u001b[39m::lag()\n",
      "\n",
      "Warning message:\n",
      "“package ‘dbplyr’ was built under R version 4.1.3”\n",
      "\n",
      "Attaching package: ‘dbplyr’\n",
      "\n",
      "\n",
      "The following objects are masked from ‘package:dplyr’:\n",
      "\n",
      "    ident, sql\n",
      "\n",
      "\n",
      "Warning message:\n",
      "“package ‘DBI’ was built under R version 4.1.3”\n",
      "Warning message:\n",
      "“package ‘tidymodels’ was built under R version 4.1.3”\n",
      "── \u001b[1mAttaching packages\u001b[22m ────────────────────────────────────── tidymodels 1.0.0 ──\n",
      "\n",
      "\u001b[32m✔\u001b[39m \u001b[34mbroom       \u001b[39m 1.0.0     \u001b[32m✔\u001b[39m \u001b[34mrsample     \u001b[39m 1.0.0\n",
      "\u001b[32m✔\u001b[39m \u001b[34mdials       \u001b[39m 1.0.0     \u001b[32m✔\u001b[39m \u001b[34mtune        \u001b[39m 1.0.0\n",
      "\u001b[32m✔\u001b[39m \u001b[34minfer       \u001b[39m 1.0.2     \u001b[32m✔\u001b[39m \u001b[34mworkflows   \u001b[39m 1.0.0\n",
      "\u001b[32m✔\u001b[39m \u001b[34mmodeldata   \u001b[39m 1.0.0     \u001b[32m✔\u001b[39m \u001b[34mworkflowsets\u001b[39m 1.0.0\n",
      "\u001b[32m✔\u001b[39m \u001b[34mparsnip     \u001b[39m 1.0.0     \u001b[32m✔\u001b[39m \u001b[34myardstick   \u001b[39m 1.0.0\n",
      "\u001b[32m✔\u001b[39m \u001b[34mrecipes     \u001b[39m 1.0.1     \n",
      "\n",
      "Warning message:\n",
      "“package ‘broom’ was built under R version 4.1.3”\n",
      "Warning message:\n",
      "“package ‘dials’ was built under R version 4.1.3”\n",
      "Warning message:\n",
      "“package ‘scales’ was built under R version 4.1.3”\n",
      "Warning message:\n",
      "“package ‘infer’ was built under R version 4.1.3”\n",
      "Warning message:\n",
      "“package ‘modeldata’ was built under R version 4.1.3”\n",
      "Warning message:\n",
      "“package ‘parsnip’ was built under R version 4.1.3”\n",
      "Warning message:\n",
      "“package ‘recipes’ was built under R version 4.1.3”\n",
      "Warning message:\n",
      "“package ‘rsample’ was built under R version 4.1.3”\n",
      "Warning message:\n",
      "“package ‘tune’ was built under R version 4.1.3”\n",
      "Warning message:\n",
      "“package ‘workflows’ was built under R version 4.1.3”\n",
      "Warning message:\n",
      "“package ‘workflowsets’ was built under R version 4.1.3”\n",
      "Warning message:\n",
      "“package ‘yardstick’ was built under R version 4.1.3”\n",
      "── \u001b[1mConflicts\u001b[22m ───────────────────────────────────────── tidymodels_conflicts() ──\n",
      "\u001b[31m✖\u001b[39m \u001b[34mscales\u001b[39m::\u001b[32mdiscard()\u001b[39m masks \u001b[34mpurrr\u001b[39m::discard()\n",
      "\u001b[31m✖\u001b[39m \u001b[34mdplyr\u001b[39m::\u001b[32mfilter()\u001b[39m   masks \u001b[34mstats\u001b[39m::filter()\n",
      "\u001b[31m✖\u001b[39m \u001b[34mrecipes\u001b[39m::\u001b[32mfixed()\u001b[39m  masks \u001b[34mstringr\u001b[39m::fixed()\n",
      "\u001b[31m✖\u001b[39m \u001b[34mdbplyr\u001b[39m::\u001b[32mident()\u001b[39m   masks \u001b[34mdplyr\u001b[39m::ident()\n",
      "\u001b[31m✖\u001b[39m \u001b[34mdplyr\u001b[39m::\u001b[32mlag()\u001b[39m      masks \u001b[34mstats\u001b[39m::lag()\n",
      "\u001b[31m✖\u001b[39m \u001b[34myardstick\u001b[39m::\u001b[32mspec()\u001b[39m masks \u001b[34mreadr\u001b[39m::spec()\n",
      "\u001b[31m✖\u001b[39m \u001b[34mdbplyr\u001b[39m::\u001b[32msql()\u001b[39m     masks \u001b[34mdplyr\u001b[39m::sql()\n",
      "\u001b[31m✖\u001b[39m \u001b[34mrecipes\u001b[39m::\u001b[32mstep()\u001b[39m   masks \u001b[34mstats\u001b[39m::step()\n",
      "\u001b[34m•\u001b[39m Use \u001b[32mtidymodels_prefer()\u001b[39m to resolve common conflicts.\n",
      "\n"
     ]
    },
    {
     "ename": "ERROR",
     "evalue": "Error in library(GGally): there is no package called ‘GGally’\n",
     "output_type": "error",
     "traceback": [
      "Error in library(GGally): there is no package called ‘GGally’\nTraceback:\n",
      "1. library(GGally)"
     ]
    }
   ],
   "source": [
    "library(tidyverse)\n",
    "library(dbplyr)\n",
    "library(DBI)\n",
    "library(repr)\n",
    "library(tidymodels)\n",
    "library(GGally)\n",
    "library(ISLR)\n",
    "options(repr.matrix.max.rows = 6)\n",
    "set.seed(2000)"
   ]
  },
  {
   "cell_type": "code",
   "execution_count": null,
   "id": "8855ce60-b641-421d-8577-630737bcaf3d",
   "metadata": {},
   "outputs": [],
   "source": [
    "## load data\n",
    "player_stat = read_csv(\"https://drive.google.com/uc?export=download&id=1_MECmUXZuuILYeEOfonSGqodW6qVdhsS\")"
   ]
  },
  {
   "cell_type": "code",
   "execution_count": null,
   "id": "fd93dd40-927e-4135-a9a9-d5eb68b7974d",
   "metadata": {},
   "outputs": [],
   "source": [
    "# clean data\n",
    "# change column names from space sperated to underscore seperated\n",
    "colnames(player_stat) = gsub(\" \", \"_\", colnames(player_stat))\n",
    "\n",
    "# seperate \"Age\" into age and date of birth,\n",
    "# \"Current_Rank\" into current rank and points,\n",
    "# \"Best_Rank\" into best rank and date of best rank.\n",
    "player_clean <- player_stat |>\n",
    "separate(col = Age, into = c(\"Age\", \"Date_Of_Birth\"), sep = \" \", convert = TRUE) |>\n",
    "separate(col = Current_Rank, into = c(\"Current_Rank\", \"Points\"), sep = \" \", convert = TRUE) |>\n",
    "separate(col = Best_Rank, into = c(\"Best_Rank\", \"Date_Of_Best_Rank\"), sep = \" \", convert = TRUE)\n",
    "\n",
    "# clean Seasons from string into numeric\n",
    "# remove characters in Pirze_Money, and change into double\n",
    "player_clean$Seasons <- as.numeric(player_stat$Seasons)\n",
    "player_clean$Prize_Money <- gsub(\"\\\\D+\", \"\", as.character(player_clean$Prize_Money))\n",
    "player_clean$Prize_Money <- as.numeric(player_clean$Prize_Money)\n",
    "\n",
    "# player_data: select Age, Seasons, Current_Rank, Best_Rank, Prize_Money\n",
    "player_data <- select(player_clean, Age, Seasons, Current_Rank, Best_Rank, Prize_Money)\n",
    "\n",
    "head(player_data)"
   ]
  },
  {
   "cell_type": "code",
   "execution_count": null,
   "id": "e4fd7c29-8c26-47a8-baa6-84b58b547a39",
   "metadata": {},
   "outputs": [],
   "source": [
    "# numeric summary of predictor variables\n",
    "# getting values for predictor variable table\n",
    "\n",
    "# age values\n",
    "age_mean <- mean(player_data$Age, na.rm = TRUE)\n",
    "age_missing <- sum(is.na(player_data$Age))\n",
    "\n",
    "# seasons values\n",
    "seasons_mean <- mean(player_data$Seasons, na.rm = TRUE)\n",
    "seasons_missing <- sum(is.na(player_data$Seasons))\n",
    "\n",
    "# best rank values\n",
    "best_rank_mean <- mean(player_data$Best_Rank, na.rm = TRUE)\n",
    "best_rank_missing <- sum(is.na(player_data$Best_Rank))\n",
    "\n",
    "# prize money values\n",
    "prize_money_mean <- mean(player_data$Prize_Money, na.rm = TRUE)\n",
    "prize_money_missing <- sum(is.na(player_data$Prize_Money))\n",
    "\n",
    "total_row <- nrow(player_data)"
   ]
  },
  {
   "cell_type": "markdown",
   "id": "39759771-2cff-4ba5-aefe-01c205405d5f",
   "metadata": {},
   "source": [
    "*Table 1: Predictor variable characteristics determined using training data*\n",
    "<div style=\"float: left\">\n",
    "    \n",
    "| PREDICTOR VARIABLE | AGE   | SEASONS | BEST RANK | PRIZE MONEY |\n",
    "|--------------------|-------|---------|-----------|-------------|\n",
    "| MEAN               | 25.97 | 6.49    | 178.2     | 210         |\n",
    "| NUMBER OF ROWS     | 500   | 500     | 500       | 500         |\n",
    "| MISSING ROWS       | 1     | 126     | 1         | 81          |\n",
    "\n",
    "</div>\n"
   ]
  },
  {
   "cell_type": "code",
   "execution_count": null,
   "id": "c5d16f88-08fa-4ff2-9b65-2023e5b17016",
   "metadata": {},
   "outputs": [],
   "source": [
    "# visualization\n",
    "\n",
    "# remove all rows with empty variables\n",
    "player_data <- player_data |>\n",
    "    na.omit()\n",
    "player_data_plot <- player_data |>\n",
    "                ggpairs()\n",
    "\n",
    "player_data_plot"
   ]
  },
  {
   "cell_type": "code",
   "execution_count": null,
   "id": "bdb9489a-2527-4b2d-847d-fb427c5d1583",
   "metadata": {},
   "outputs": [],
   "source": [
    "# split data into train and test with a proportion of 75% \n",
    "# to ensure the accuraccy our model is not overrated\n",
    "# Also shuffles and stratifies the data by the variable we are trying to predit, \n",
    "\n",
    "player_split <- initial_split(player_data, prop = 0.75, strata = Current_Rank)\n",
    "player_train <- training(player_split)\n",
    "player_test <- testing(player_split)"
   ]
  },
  {
   "cell_type": "code",
   "execution_count": null,
   "id": "40e272b1-e608-458c-9eb7-7990cf92f26d",
   "metadata": {},
   "outputs": [],
   "source": [
    "# recipe and model\n",
    "player_recipe <- recipe(Current_Rank~Age+Seasons+Best_Rank+Prize_Money, data = player_train) |>\n",
    "    step_scale(all_predictors()) |>\n",
    "    step_scale(all_predictors())\n",
    "\n",
    "player_spec <- nearest_neighbor(weight_func = \"rectangular\", neighbors = tune()) |>\n",
    "    set_engine(\"kknn\") |>\n",
    "    set_mode(\"regression\")\n",
    "\n",
    "# create a 5-fold cross-validation object, and put recipe and model specification together in a workflow\n",
    "player_vfold <- vfold_cv(player_train, v = 5, strata = Current_Rank)\n",
    "\n",
    "player_wkflw <- workflow() |>\n",
    "    add_recipe(player_recipe) |>\n",
    "    add_model(player_spec) "
   ]
  },
  {
   "cell_type": "code",
   "execution_count": null,
   "id": "6f0eb93e-88fa-4448-8212-fd4b894352b7",
   "metadata": {},
   "outputs": [],
   "source": [
    "accuracy_k_plot <- k_accuracies %>% \n",
    "    ggplot(aes(x = k,y = Accuracy)) +\n",
    "        geom_point() + \n",
    "        geom_line() +\n",
    "        labs(x = \"Value of K\", y = \"Accuracy\") +\n",
    "        ggtitle('Plot of Accuracy versus K')\n",
    "accuracy_k_plot"
   ]
  },
  {
   "cell_type": "code",
   "execution_count": null,
   "id": "63d53faf-81a0-48f2-ac8a-84bfc72439ba",
   "metadata": {},
   "outputs": [],
   "source": [
    "# 5-fold cross-validation to choose the number of neighbors with min RMSPE\n",
    "\n",
    "gridvals <- tibble(neighbors = seq(1, 200)) \n",
    "\n",
    "player_multi <- player_wkflw |>\n",
    "    tune_grid(player_vfold, grid = gridvals) |>\n",
    "    collect_metrics() |>\n",
    "    filter(.metric == \"rmse\") |>\n",
    "    filter(mean == min(mean))\n",
    "\n",
    "player_k <- player_multi |>\n",
    "    pull(neighbors)\n",
    "\n",
    "player_multi"
   ]
  },
  {
   "cell_type": "code",
   "execution_count": null,
   "id": "495632ac-a2e7-4395-ba79-8c121f4821a7",
   "metadata": {},
   "outputs": [],
   "source": [
    "# from last step, we have smallest RMPSPE when k = 14\n",
    "# re-train the mode with k = 14, and use the model to make prediction on the test data\n",
    "\n",
    "player_spec <- nearest_neighbor(weight_func = \"rectangular\", neighbors = player_k) |>\n",
    "    set_engine(\"kknn\") |>\n",
    "    set_mode(\"regression\")\n",
    "\n",
    "knn_fit <- workflow() |>\n",
    "    add_recipe(player_recipe) |>\n",
    "    add_model(player_spec) |>\n",
    "    fit(data = player_train)\n",
    "\n",
    "knn_preds <- knn_fit |>\n",
    "    predict(player_test) |>\n",
    "    bind_cols(player_test)\n",
    "\n",
    "knn_mets <- metrics(knn_preds, truth = Current_Rank, estimate = .pred) |>\n",
    "    filter(.metric == \"rmse\")\n",
    "\n",
    "knn_mets"
   ]
  },
  {
   "cell_type": "code",
   "execution_count": null,
   "id": "fd75a4f1-1cdd-4424-b957-f16619956013",
   "metadata": {},
   "outputs": [],
   "source": [
    "# confusion matrix\n",
    "\n",
    "confusion <- cancer_test_predictions |>\n",
    "             conf_mat(truth = Class, estimate = .pred_class)\n",
    "confusion"
   ]
  },
  {
   "cell_type": "code",
   "execution_count": null,
   "id": "abade257-d919-4a9d-924c-dd13916a54c7",
   "metadata": {},
   "outputs": [],
   "source": []
  }
 ],
 "metadata": {
  "kernelspec": {
   "display_name": "R",
   "language": "R",
   "name": "ir"
  },
  "language_info": {
   "codemirror_mode": "r",
   "file_extension": ".r",
   "mimetype": "text/x-r-source",
   "name": "R",
   "pygments_lexer": "r",
   "version": "4.1.1"
  }
 },
 "nbformat": 4,
 "nbformat_minor": 5
}
