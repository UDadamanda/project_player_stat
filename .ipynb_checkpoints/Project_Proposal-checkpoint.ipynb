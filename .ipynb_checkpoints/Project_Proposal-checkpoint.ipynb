{
 "cells": [
  {
   "cell_type": "markdown",
   "id": "e444cfbb-a500-4303-83b3-b25a0377a8cf",
   "metadata": {},
   "source": [
    "Determining the Current Rank of Tennis Players\n",
    "\n",
    "Introduction:\n",
    "\n",
    "Global player rankings provide interesting and valuable insights into professional tennis performances. Players earn points based on their top 18 performances of the past 52 weeks at events hosted by one of the major governing bodies of the sport. Top performers earn significant prize money at major tournaments.\n",
    "\n",
    "In our project, we will attempt to determine the current rank of professional tennis players based on factors such as best rank achieved throughout their career, total prize money earned, age, and seasons played at the professional level. This provides an interesting sports analytics question, and the results could potentially help in predicting future player rankings, which has economic and entertainment value.\n",
    "\n",
    "The dataset we will use is “Player Stats for Top 500 Players'' from ultimatetennisstatistics.com. This dataset compiles individual player data for the 500 highest ranked professional tennis players, including a variety of different categories.\n"
   ]
  },
  {
   "cell_type": "code",
   "execution_count": 22,
   "id": "68cac7b1-f58d-4559-bf8b-32c27d47b70e",
   "metadata": {},
   "outputs": [],
   "source": [
    "library(tidyverse)\n",
    "library(dbplyr)\n",
    "library(DBI)\n",
    "library(repr)"
   ]
  },
  {
   "cell_type": "markdown",
   "id": "60c16b54-35cd-4a6a-9aa1-1863b912cda7",
   "metadata": {},
   "source": [
    "# Preliminary Data Analysis"
   ]
  },
  {
   "cell_type": "code",
   "execution_count": 2,
   "id": "81cb6087-d352-41e1-a634-8b94fad78639",
   "metadata": {},
   "outputs": [
    {
     "name": "stderr",
     "output_type": "stream",
     "text": [
      "\u001b[1m\u001b[22mNew names:\n",
      "\u001b[36m•\u001b[39m `` -> `...1`\n",
      "\u001b[1mRows: \u001b[22m\u001b[34m500\u001b[39m \u001b[1mColumns: \u001b[22m\u001b[34m38\u001b[39m\n",
      "\u001b[36m──\u001b[39m \u001b[1mColumn specification\u001b[22m \u001b[36m────────────────────────────────────────────────────────\u001b[39m\n",
      "\u001b[1mDelimiter:\u001b[22m \",\"\n",
      "\u001b[31mchr\u001b[39m (25): Age, Country, Plays, Wikipedia, Current Rank, Best Rank, Name, Bac...\n",
      "\u001b[32mdbl\u001b[39m (13): ...1, Turned Pro, Seasons, Titles, Best Season, Retired, Masters, ...\n",
      "\n",
      "\u001b[36mℹ\u001b[39m Use `spec()` to retrieve the full column specification for this data.\n",
      "\u001b[36mℹ\u001b[39m Specify the column types or set `show_col_types = FALSE` to quiet this message.\n"
     ]
    }
   ],
   "source": [
    "player_stat = read_csv(\"https://drive.google.com/uc?export=download&id=1_MECmUXZuuILYeEOfonSGqodW6qVdhsS\")"
   ]
  },
  {
   "cell_type": "code",
   "execution_count": 10,
   "id": "edbfd909-0562-434a-8358-c01ab1080f0b",
   "metadata": {},
   "outputs": [
    {
     "data": {
      "text/html": [
       "<table class=\"dataframe\">\n",
       "<caption>A tibble: 6 × 6</caption>\n",
       "<thead>\n",
       "\t<tr><th scope=col>Name</th><th scope=col>Age</th><th scope=col>Seasons</th><th scope=col>Current_Rank</th><th scope=col>Best_Rank</th><th scope=col>Prize_Money</th></tr>\n",
       "\t<tr><th scope=col>&lt;chr&gt;</th><th scope=col>&lt;int&gt;</th><th scope=col>&lt;dbl&gt;</th><th scope=col>&lt;int&gt;</th><th scope=col>&lt;int&gt;</th><th scope=col>&lt;dbl&gt;</th></tr>\n",
       "</thead>\n",
       "<tbody>\n",
       "\t<tr><td>Oscar Jose Gutierrez</td><td>26</td><td>NA</td><td>378</td><td>363</td><td>     NA</td></tr>\n",
       "\t<tr><td>Jack Draper         </td><td>18</td><td>NA</td><td>326</td><td>316</td><td>  59040</td></tr>\n",
       "\t<tr><td>Lukas Lacko         </td><td>32</td><td>14</td><td>178</td><td> 44</td><td>3261567</td></tr>\n",
       "\t<tr><td>Duck Hee Lee        </td><td>21</td><td> 2</td><td>236</td><td>130</td><td> 374093</td></tr>\n",
       "\t<tr><td>Bernard Tomic       </td><td>27</td><td>11</td><td>183</td><td> 17</td><td>6091971</td></tr>\n",
       "\t<tr><td>Hubert Hurkacz      </td><td>22</td><td> 5</td><td> 31</td><td> 31</td><td>1517157</td></tr>\n",
       "</tbody>\n",
       "</table>\n"
      ],
      "text/latex": [
       "A tibble: 6 × 6\n",
       "\\begin{tabular}{llllll}\n",
       " Name & Age & Seasons & Current\\_Rank & Best\\_Rank & Prize\\_Money\\\\\n",
       " <chr> & <int> & <dbl> & <int> & <int> & <dbl>\\\\\n",
       "\\hline\n",
       "\t Oscar Jose Gutierrez & 26 & NA & 378 & 363 &      NA\\\\\n",
       "\t Jack Draper          & 18 & NA & 326 & 316 &   59040\\\\\n",
       "\t Lukas Lacko          & 32 & 14 & 178 &  44 & 3261567\\\\\n",
       "\t Duck Hee Lee         & 21 &  2 & 236 & 130 &  374093\\\\\n",
       "\t Bernard Tomic        & 27 & 11 & 183 &  17 & 6091971\\\\\n",
       "\t Hubert Hurkacz       & 22 &  5 &  31 &  31 & 1517157\\\\\n",
       "\\end{tabular}\n"
      ],
      "text/markdown": [
       "\n",
       "A tibble: 6 × 6\n",
       "\n",
       "| Name &lt;chr&gt; | Age &lt;int&gt; | Seasons &lt;dbl&gt; | Current_Rank &lt;int&gt; | Best_Rank &lt;int&gt; | Prize_Money &lt;dbl&gt; |\n",
       "|---|---|---|---|---|---|\n",
       "| Oscar Jose Gutierrez | 26 | NA | 378 | 363 |      NA |\n",
       "| Jack Draper          | 18 | NA | 326 | 316 |   59040 |\n",
       "| Lukas Lacko          | 32 | 14 | 178 |  44 | 3261567 |\n",
       "| Duck Hee Lee         | 21 |  2 | 236 | 130 |  374093 |\n",
       "| Bernard Tomic        | 27 | 11 | 183 |  17 | 6091971 |\n",
       "| Hubert Hurkacz       | 22 |  5 |  31 |  31 | 1517157 |\n",
       "\n"
      ],
      "text/plain": [
       "  Name                 Age Seasons Current_Rank Best_Rank Prize_Money\n",
       "1 Oscar Jose Gutierrez 26  NA      378          363            NA    \n",
       "2 Jack Draper          18  NA      326          316         59040    \n",
       "3 Lukas Lacko          32  14      178           44       3261567    \n",
       "4 Duck Hee Lee         21   2      236          130        374093    \n",
       "5 Bernard Tomic        27  11      183           17       6091971    \n",
       "6 Hubert Hurkacz       22   5       31           31       1517157    "
      ]
     },
     "metadata": {},
     "output_type": "display_data"
    }
   ],
   "source": [
    "# Clean data\n",
    "colnames(player_stat) = gsub(\" \", \"_\", colnames(player_stat))\n",
    "\n",
    "# player_star: raw\n",
    "# player_clean: cleaned Age, Current_Rank, Best_Rank, Seasons, Prize_Money\n",
    "# player_select: selected Name, Age, Current_Rank, Best_Rank, Prize_Money\n",
    "player_clean <- player_stat |>\n",
    "separate(col = Age, into = c(\"Age\", \"DateOfBirth\"), sep = \" \", convert = TRUE) |>\n",
    "separate(col = Current_Rank, into = c(\"Current_Rank\", \"Points\"), sep = \" \", convert = TRUE) |>\n",
    "separate(col = Best_Rank, into = c(\"Best_Rank\", \"Date_Of_Best_Rank\"), sep = \" \", convert = TRUE)\n",
    "# arrange(Current_Rank)\n",
    "\n",
    "player_clean$Seasons <- as.numeric(player_stat$Seasons)\n",
    "player_clean$Prize_Money <- gsub(\"\\\\D+\", \"\", as.character(player_clean$Prize_Money))\n",
    "player_clean$Prize_Money <- as.numeric(player_clean$Prize_Money)\n",
    "\n",
    "player_data <- select(player_clean, Name, Age, Seasons, Current_Rank, Best_Rank, Prize_Money)\n",
    "\n",
    "head(player_data)"
   ]
  },
  {
   "cell_type": "code",
   "execution_count": 44,
   "id": "10639804-cb31-4fcf-84ec-5245b6530a63",
   "metadata": {},
   "outputs": [],
   "source": [
    "# Getting values for predictor variable table\n",
    "\n",
    "# Age values\n",
    "age_mean <- mean(player_data$Age, na.rm = TRUE)\n",
    "age_missing <- sum(is.na(player_data$Age))\n",
    "\n",
    "# Seasons values\n",
    "seasons_mean <- mean(player_data$Seasons, na.rm = TRUE)\n",
    "seasons_missing <- sum(is.na(player_data$Seasons))\n",
    "\n",
    "# Best Rank values\n",
    "best_rank_mean <- mean(player_data$Best_Rank, na.rm = TRUE)\n",
    "best_rank_missing <- sum(is.na(player_data$Best_Rank))\n",
    "\n",
    "# Prize money values\n",
    "prize_money_mean <- mean(player_data$Prize_Money, na.rm = TRUE)\n",
    "prize_money_missing <- sum(is.na(player_data$Prize_Money))\n",
    "\n",
    "total_row <- nrow(player_data)"
   ]
  },
  {
   "cell_type": "markdown",
   "id": "fb53951e-13a6-4c85-9d9d-e5e37132dd1c",
   "metadata": {},
   "source": [
    "Table 1: Predictor variable characteristics determined using training data\n",
    "| PREDICTOR VARIABLE | AGE   | SEASONS | BEST RANK | PRIZE MONEY |\n",
    "|--------------------|-------|---------|-----------|-------------|\n",
    "| MEAN               | 25.97 | 6.49    | 178.2     | 210         |\n",
    "| NUMBER OF ROWS     | 500   | 500     | 500       | 500         |\n",
    "| MISSING ROWS       | 1     | 126     | 1         | 81          |"
   ]
  },
  {
   "cell_type": "code",
   "execution_count": 19,
   "id": "4d792cfe-e2f2-422a-8095-c5c695fc513d",
   "metadata": {},
   "outputs": [
    {
     "name": "stderr",
     "output_type": "stream",
     "text": [
      "`stat_bin()` using `bins = 30`. Pick better value with `binwidth`.\n",
      "\n",
      "Warning message:\n",
      "“Removed 1 rows containing non-finite values (stat_bin).”\n"
     ]
    },
    {
     "data": {
      "image/png": "[encoded data removed]",
      "text/plain": [
       "plot without title"
      ]
     },
     "metadata": {
      "image/png": {
       "height": 420,
       "width": 420
      }
     },
     "output_type": "display_data"
    }
   ],
   "source": [
    "age_dist <- player_data |>\n",
    "    ggplot(aes(x = Age)) +\n",
    "    geom_histogram() +\n",
    "    xlab(\"Player Age\") +\n",
    "    ylab(\"Count\")\n",
    "\n",
    "age_dist"
   ]
  },
  {
   "cell_type": "code",
   "execution_count": 18,
   "id": "402e7ea9-0a37-4de2-a2da-996badb7b65e",
   "metadata": {},
   "outputs": [
    {
     "name": "stderr",
     "output_type": "stream",
     "text": [
      "`stat_bin()` using `bins = 30`. Pick better value with `binwidth`.\n",
      "\n",
      "Warning message:\n",
      "“Removed 1 rows containing non-finite values (stat_bin).”\n"
     ]
    },
    {
     "data": {
      "image/png": "[encoded data removed]",
      "text/plain": [
       "plot without title"
      ]
     },
     "metadata": {
      "image/png": {
       "height": 420,
       "width": 420
      }
     },
     "output_type": "display_data"
    }
   ],
   "source": [
    "best_dist <- player_data |>\n",
    "    ggplot(aes(x = Best_Rank)) +\n",
    "    geom_histogram() +\n",
    "    xlab(\"Best Rank\") +\n",
    "    ylab(\"Count\")\n",
    "\n",
    "best_dist"
   ]
  },
  {
   "cell_type": "code",
   "execution_count": 17,
   "id": "fd7e157f-4cea-486a-98b5-88646a981291",
   "metadata": {},
   "outputs": [
    {
     "name": "stderr",
     "output_type": "stream",
     "text": [
      "`stat_bin()` using `bins = 30`. Pick better value with `binwidth`.\n",
      "\n",
      "Warning message:\n",
      "“Removed 126 rows containing non-finite values (stat_bin).”\n"
     ]
    },
    {
     "data": {
      "image/png": "[encoded data removed]",
      "text/plain": [
       "plot without title"
      ]
     },
     "metadata": {
      "image/png": {
       "height": 420,
       "width": 420
      }
     },
     "output_type": "display_data"
    }
   ],
   "source": [
    "seasons_dist <- player_data |>\n",
    "    ggplot(aes(x = Seasons)) +\n",
    "    geom_histogram() +\n",
    "    xlab(\"Seasons played\") +\n",
    "    ylab(\"Number of Players\")\n",
    "\n",
    "seasons_dist"
   ]
  },
  {
   "cell_type": "markdown",
   "id": "cf19ad35-bf4d-4039-9356-4b2fb9d6092c",
   "metadata": {},
   "source": [
    "# Methods"
   ]
  },
  {
   "cell_type": "markdown",
   "id": "7646c891-2677-40c6-92a5-eeadcbadbbb8",
   "metadata": {},
   "source": [
    "Data analysis will be conducted through regression and visualization. The “best rank”, “age”, “seasons” and “prize money earned” variables will be utilized to determine the current rank of the top 500 tennis players. As the current rank of a player is a numeric value, the K-nearest neighbors regression method will be used in the analysis. To perform the regression method, we will split our wrangled data into two sets, a training set and a testing set. The training set will build our model, while the testing set will evaluate the accuracy of our model. During its production, we will tune the value of K to optimize the accuracy of its predictions. Finally, when our model has been built, we can evaluate it using our testing dataset. At this point, we can use the model to predict the current rank of tennis players.\n",
    "\n",
    "To visualize the training data, a number of scatter plots will be created with the best rank of a player on the y-axis and the predictor variable on the x-axis. Through these visualizations, conclusions regarding the relationship between each predictor variable and current rank will be determined.\n",
    "\n",
    "Expected outcomes and significance:\n",
    "We expect that a regression analysis using the best rank, age, seasons played, and prize money earned will be able to predict the current rank of a given player. A direct impact that our findings will have is creating an understanding of how each predictor variable impacts the current ranking of a player. By addressing this knowledge deficit, we can establish a platform for future tennis related inquiries. Questions such as: predicting the future rankings, forecasting the future elo ratings and determining relationships between age and ranking can be answered using a process similar to what we are employing. Additionally, our model can be adapted to predict future outstanding players using data from their current league. The knowledge gained through this analysis will broaden the application of statistical analysis in the world of tennis.\n"
   ]
  },
  {
   "cell_type": "code",
   "execution_count": null,
   "id": "b7b5f357-7d31-4801-b687-d722b035d47c",
   "metadata": {},
   "outputs": [],
   "source": []
  },
  {
   "cell_type": "code",
   "execution_count": null,
   "id": "0c48a098-f851-445f-86e3-867fe4093263",
   "metadata": {},
   "outputs": [],
   "source": []
  }
 ],
 "metadata": {
  "kernelspec": {
   "display_name": "R",
   "language": "R",
   "name": "ir"
  },
  "language_info": {
   "codemirror_mode": "r",
   "file_extension": ".r",
   "mimetype": "text/x-r-source",
   "name": "R",
   "pygments_lexer": "r",
   "version": "4.1.3"
  }
 },
 "nbformat": 4,
 "nbformat_minor": 5
}
